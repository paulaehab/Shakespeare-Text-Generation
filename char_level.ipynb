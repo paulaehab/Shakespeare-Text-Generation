{
  "nbformat": 4,
  "nbformat_minor": 0,
  "metadata": {
    "colab": {
      "provenance": [],
      "authorship_tag": "ABX9TyPPaGiybWKL8GDjvlO5taWM",
      "include_colab_link": true
    },
    "kernelspec": {
      "name": "python3",
      "display_name": "Python 3"
    },
    "language_info": {
      "name": "python"
    },
    "accelerator": "GPU",
    "gpuClass": "standard"
  },
  "cells": [
    {
      "cell_type": "markdown",
      "metadata": {
        "id": "view-in-github",
        "colab_type": "text"
      },
      "source": [
        "<a href=\"https://colab.research.google.com/github/paulaehab/Shakespeare-Text-Generation/blob/main/char_level.ipynb\" target=\"_parent\"><img src=\"https://colab.research.google.com/assets/colab-badge.svg\" alt=\"Open In Colab\"/></a>"
      ]
    },
    {
      "cell_type": "markdown",
      "source": [
        "# Step1: Import Libraraies"
      ],
      "metadata": {
        "id": "PJVctLxmJJUE"
      }
    },
    {
      "cell_type": "code",
      "execution_count": 5,
      "metadata": {
        "id": "a8XEV-5JHfFL"
      },
      "outputs": [],
      "source": [
        "import tensorflow as tf \n",
        "import pandas as pd\n",
        "import numpy as np \n",
        "import nltk \n",
        "import time"
      ]
    },
    {
      "cell_type": "markdown",
      "source": [
        "# Step2: Load_dataset"
      ],
      "metadata": {
        "id": "a2Xt19xfJGqR"
      }
    },
    {
      "cell_type": "code",
      "source": [
        "data_url = tf.keras.utils.get_file('shakespeare.txt', 'https://storage.googleapis.com/download.tensorflow.org/data/shakespeare.txt')\n"
      ],
      "metadata": {
        "colab": {
          "base_uri": "https://localhost:8080/"
        },
        "id": "QNYzBhz6IWTG",
        "outputId": "97430ba8-51df-44f6-e4a7-3667dfad9727"
      },
      "execution_count": 3,
      "outputs": [
        {
          "output_type": "stream",
          "name": "stdout",
          "text": [
            "Downloading data from https://storage.googleapis.com/download.tensorflow.org/data/shakespeare.txt\n",
            "1115394/1115394 [==============================] - 1s 1us/step\n"
          ]
        }
      ]
    },
    {
      "cell_type": "code",
      "source": [
        "dataset_text = open(data_url, 'rb').read().decode(encoding='utf-8')\n"
      ],
      "metadata": {
        "id": "jdw6V_69IfuA"
      },
      "execution_count": 6,
      "outputs": []
    },
    {
      "cell_type": "code",
      "source": [
        "# Find Vocabulary (set of charcters)\n",
        "vocabulary = sorted(set(dataset_text))\n",
        "print('No. of unique characters: {}'.format(len(vocabulary)))\n"
      ],
      "metadata": {
        "colab": {
          "base_uri": "https://localhost:8080/"
        },
        "id": "NnqrqaO0Ii6s",
        "outputId": "727d221c-5892-4c2e-af42-590327002249"
      },
      "execution_count": 7,
      "outputs": [
        {
          "output_type": "stream",
          "name": "stdout",
          "text": [
            "No. of unique characters: 65\n"
          ]
        }
      ]
    },
    {
      "cell_type": "markdown",
      "source": [
        "# Step3: Preprocessing the data "
      ],
      "metadata": {
        "id": "n5z1JyJeJBOu"
      }
    },
    {
      "cell_type": "code",
      "source": [
        "# transfer charcater to index mapping \n",
        "char2index = {c:i for i,c in enumerate(vocabulary)}\n",
        "# change every charcter in dataset into it's crosponding index \n",
        "int_text = np.array([char2index]for i in dataset_text )\n",
        "\n",
        "# transfer index to charcter mapping\n",
        "index2char = np.array(vocabulary)"
      ],
      "metadata": {
        "id": "f5sAONSyI8xm"
      },
      "execution_count": 22,
      "outputs": []
    },
    {
      "cell_type": "code",
      "source": [
        "#Testing\n",
        "print(\"Character to Index: \\n\")\n",
        "for char,_ in zip(char2index, range(65)):\n",
        "    print('  {:4s}: {:3d}'.format(repr(char), char2index[char]))\n",
        "\n",
        "print(\"\\nInput text to Integer: \\n\")\n",
        "print('{} mapped to {}'.format(repr(dataset_text[:20]),int_text)) #use repr() for debugging\n",
        "\n"
      ],
      "metadata": {
        "colab": {
          "base_uri": "https://localhost:8080/"
        },
        "id": "QceEsAKvJ-sv",
        "outputId": "58d5c5ec-6386-443e-8771-20f8b5a28cf6"
      },
      "execution_count": 23,
      "outputs": [
        {
          "output_type": "stream",
          "name": "stdout",
          "text": [
            "Character to Index: \n",
            "\n",
            "  '\\n':   0\n",
            "  ' ' :   1\n",
            "  '!' :   2\n",
            "  '$' :   3\n",
            "  '&' :   4\n",
            "  \"'\" :   5\n",
            "  ',' :   6\n",
            "  '-' :   7\n",
            "  '.' :   8\n",
            "  '3' :   9\n",
            "  ':' :  10\n",
            "  ';' :  11\n",
            "  '?' :  12\n",
            "  'A' :  13\n",
            "  'B' :  14\n",
            "  'C' :  15\n",
            "  'D' :  16\n",
            "  'E' :  17\n",
            "  'F' :  18\n",
            "  'G' :  19\n",
            "  'H' :  20\n",
            "  'I' :  21\n",
            "  'J' :  22\n",
            "  'K' :  23\n",
            "  'L' :  24\n",
            "  'M' :  25\n",
            "  'N' :  26\n",
            "  'O' :  27\n",
            "  'P' :  28\n",
            "  'Q' :  29\n",
            "  'R' :  30\n",
            "  'S' :  31\n",
            "  'T' :  32\n",
            "  'U' :  33\n",
            "  'V' :  34\n",
            "  'W' :  35\n",
            "  'X' :  36\n",
            "  'Y' :  37\n",
            "  'Z' :  38\n",
            "  'a' :  39\n",
            "  'b' :  40\n",
            "  'c' :  41\n",
            "  'd' :  42\n",
            "  'e' :  43\n",
            "  'f' :  44\n",
            "  'g' :  45\n",
            "  'h' :  46\n",
            "  'i' :  47\n",
            "  'j' :  48\n",
            "  'k' :  49\n",
            "  'l' :  50\n",
            "  'm' :  51\n",
            "  'n' :  52\n",
            "  'o' :  53\n",
            "  'p' :  54\n",
            "  'q' :  55\n",
            "  'r' :  56\n",
            "  's' :  57\n",
            "  't' :  58\n",
            "  'u' :  59\n",
            "  'v' :  60\n",
            "  'w' :  61\n",
            "  'x' :  62\n",
            "  'y' :  63\n",
            "  'z' :  64\n",
            "\n",
            "Input text to Integer: \n",
            "\n",
            "'First Citizen:\\nBefor' mapped to <generator object <genexpr> at 0x7ff3b4fe7040>\n"
          ]
        }
      ]
    },
    {
      "cell_type": "code",
      "source": [],
      "metadata": {
        "id": "4nr85fAAKBdv"
      },
      "execution_count": null,
      "outputs": []
    }
  ]
}